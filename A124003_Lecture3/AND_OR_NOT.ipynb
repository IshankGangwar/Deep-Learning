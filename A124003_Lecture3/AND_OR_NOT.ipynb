{
 "cells": [
  {
   "cell_type": "code",
   "execution_count": 1,
   "id": "7356a7b9-1551-4073-bba0-0e7690618115",
   "metadata": {},
   "outputs": [
    {
     "name": "stdout",
     "output_type": "stream",
     "text": [
      "Training Perceptron for AND gate\n",
      "Predictions for AND gate: [0 0 0 1]\n",
      "------------------------------\n",
      "Training Perceptron for OR gate\n",
      "Predictions for OR gate: [0 1 1 1]\n",
      "------------------------------\n",
      "Training Perceptron for NOT gate\n",
      "Predictions for NOT gate: [1 0]\n",
      "------------------------------\n"
     ]
    }
   ],
   "source": [
    "#perceptron _for_AND_OR_NOT\n",
    "\n",
    "import numpy as np\n",
    "import matplotlib.pyplot as plt\n",
    "from sklearn.linear_model import Perceptron\n",
    "\n",
    "# Define the logic gate data\n",
    "logic_gates = {\n",
    "    \"AND\": {\"X\": np.array([[0, 0], [0, 1], [1, 0], [1, 1]]), \"y\": np.array([0, 0, 0, 1])},\n",
    "    \"OR\": {\"X\": np.array([[0, 0], [0, 1], [1, 0], [1, 1]]), \"y\": np.array([0, 1, 1, 1])},\n",
    "    \"NOT\": {\"X\": np.array([[0], [1]]), \"y\": np.array([1, 0])},\n",
    "}\n",
    "\n",
    "def train_perceptron(X, y):\n",
    "    model = Perceptron(max_iter=1000, eta0=0.1, random_state=42)\n",
    "    model.fit(X, y)\n",
    "    return model\n",
    "\n",
    "# Train and test the perceptron for each logic gate\n",
    "for gate, data in logic_gates.items():\n",
    "    print(f\"Training Perceptron for {gate} gate\")\n",
    "    model = train_perceptron(data[\"X\"], data[\"y\"])\n",
    "    predictions = model.predict(data[\"X\"])\n",
    "    print(f\"Predictions for {gate} gate: {predictions}\")\n",
    "    print(\"-\" * 30)"
   ]
  },
  {
   "cell_type": "code",
   "execution_count": null,
   "id": "0b191dad-dce0-467f-b29a-17ea4ecbc3b9",
   "metadata": {},
   "outputs": [],
   "source": []
  }
 ],
 "metadata": {
  "kernelspec": {
   "display_name": "Python 3 (ipykernel)",
   "language": "python",
   "name": "python3"
  },
  "language_info": {
   "codemirror_mode": {
    "name": "ipython",
    "version": 3
   },
   "file_extension": ".py",
   "mimetype": "text/x-python",
   "name": "python",
   "nbconvert_exporter": "python",
   "pygments_lexer": "ipython3",
   "version": "3.13.1"
  }
 },
 "nbformat": 4,
 "nbformat_minor": 5
}
